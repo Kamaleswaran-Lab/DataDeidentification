{
 "cells": [
  {
   "cell_type": "code",
   "execution_count": 2,
   "id": "4b086679-4213-41f4-9078-d5060c2125c1",
   "metadata": {},
   "outputs": [],
   "source": [
    "import pandas as pd\n",
    "import os\n",
    "from pathlib import Path\n",
    "#from multiprocessing import Pool, Lock\n",
    "#import pydicom\n",
    "import glob\n",
    "import random\n",
    "import string\n",
    "import numpy as np\n",
    "import pickle\n",
    "import time\n",
    "import sys\n",
    "import hashlib\n",
    "\n",
    "def hash_value(value, hash_key):\n",
    "    return hashlib.sha256((str(value) + hash_key).encode()).hexdigest()"
   ]
  },
  {
   "cell_type": "code",
   "execution_count": 3,
   "id": "fdb57448-cec5-41ad-b49f-45314bf0eb98",
   "metadata": {},
   "outputs": [
    {
     "name": "stderr",
     "output_type": "stream",
     "text": [
      "/tmp/ipykernel_2162965/3792903567.py:24: DtypeWarning: Columns (0,1) have mixed types. Specify dtype option on import or set low_memory=False.\n",
      "  mastertable = pd.read_csv(path_to_mastertable, usecols=  columns_to_read)\n",
      "/tmp/ipykernel_2162965/3792903567.py:27: DtypeWarning: Columns (2,4,9,40,57,58,69,70) have mixed types. Specify dtype option on import or set low_memory=False.\n",
      "  combined_meta = pd.read_csv(path_to_combined_meta)\n",
      "/tmp/ipykernel_2162965/3792903567.py:30: DtypeWarning: Columns (0,1,2,4,5,6,7,8,9) have mixed types. Specify dtype option on import or set low_memory=False.\n",
      "  radiology_notes = pd.read_csv(path_to_combined_radiology_notes)\n"
     ]
    }
   ],
   "source": [
    "path_to_mastertable = Path('/labs/kamaleswaranlab/MODS/Data/Emory_Data/RKENCOUNTERS_BEDLOCATION.csv')\n",
    "all_meta_columns = ['AccessionNumber', 'ContentDate', 'ContentDescription', 'ContentLabel', 'ContentTime',\\\n",
    "                    'ImageHorizontalFlip', 'ImageRotation', 'InstanceNumber', 'IssuerOfPatientID', 'Manufacturer', \\\n",
    "                    'ManufacturerModelName', 'Modality', 'PatientID', 'PatientSex', 'PresentationCreationDate', \\\n",
    "                        'PresentationCreationTime', 'ReferringPhysicianName', 'RescaleIntercept', 'RescaleSlope',\\\n",
    "                        'SOPClassUID', 'SOPInstanceUID', 'SeriesDate', 'SeriesDescription', 'SeriesInstanceUID', \\\n",
    "                        'SeriesNumber', 'SeriesTime', 'SoftwareVersions', 'SpecificCharacterSet', 'StationName', \\\n",
    "                        'StudyDate', 'StudyInstanceUID', 'StudyTime', 'file', 'has_pix_array', 'category', \\\n",
    "                        'AcquisitionDate', 'AcquisitionDateTime', 'AcquisitionTime', 'BitsAllocated',\\\n",
    "                        'BitsStored', 'Columns', 'HighBit', 'ImageType', 'InstitutionName', 'LossyImageCompression',\\\n",
    "                    'PatientOrientation', 'PhotometricInterpretation', 'PixelRepresentation', 'ProcessingFunction',\\\n",
    "                    'Rows', 'SamplesPerPixel', 'StudyDescription', 'StudyID', 'AcquisitionNumber', 'ConvolutionKernel',\\\n",
    "                'DataCollectionDiameter', 'DeviceSerialNumber', 'DistanceSourceToDetector', 'DistanceSourceToPatient', \\\n",
    "                    'Exposure', 'ExposureTime', 'ImageOrientationPatient', 'ImagePositionPatient', 'InstanceCreationDate',\\\n",
    "                'InstanceCreationTime', 'RescaleType', 'RevolutionTime', 'RotationDirection', 'ScanOptions', 'SliceLocation', \\\n",
    "                    'SliceThickness', 'SpacingBetweenSlices', 'EMPI']\n",
    "\n",
    "columns_to_deid = ['AccessionNumber',  'InstanceNumber', 'IssuerOfPatientID', \\\n",
    "                    'PatientID','SOPClassUID', 'SOPInstanceUID', 'StudyInstanceUID',  'InstitutionName',  'EMPI']\n",
    "\n",
    "all_mastertable_columns = ['PAT_ID', 'EMPI_NBR', 'ENCOUNTER_NBR', 'ENCOUNTER_ID', 'BED_LOCATION_START', 'BED_LOCATION_END', 'BED_UNIT', 'BED_ROOM', 'BED_ID', 'BED_LABEL', 'HOSPITAL_SERVICE', 'ACCOMODATION_CODE', 'ACCOMODATION_DESCRIPTION']\n",
    "columns_to_read = ['PAT_ID', 'EMPI_NBR', 'ENCOUNTER_NBR', 'ENCOUNTER_ID', 'BED_LOCATION_START', 'BED_LOCATION_END']\n",
    "\n",
    "mastertable = pd.read_csv(path_to_mastertable, usecols=  columns_to_read)\n",
    "\n",
    "path_to_combined_meta = Path('/labs/collab/Imaging/Imaging-PHI/Emory_Images/Meta/Combined_Meta.csv')\n",
    "combined_meta = pd.read_csv(path_to_combined_meta)\n",
    "\n",
    "path_to_combined_radiology_notes = Path('/labs/collab/Imaging/Imaging-PHI/Emory_Images/Meta/Combined_Radiology_Notes.csv')\n",
    "radiology_notes = pd.read_csv(path_to_combined_radiology_notes)\n",
    "\n"
   ]
  },
  {
   "cell_type": "code",
   "execution_count": 4,
   "id": "ea8a11f1-ef10-478a-b98c-4f4d84e16754",
   "metadata": {},
   "outputs": [],
   "source": [
    "date_columns = ['ContentDate', 'PresentationCreationDate', 'SeriesDate', 'StudyDate', 'AcquisitionDate', 'InstanceCreationDate']"
   ]
  },
  {
   "cell_type": "code",
   "execution_count": 8,
   "id": "995d3a9c-2153-4fe5-8b8a-0f772ee7742a",
   "metadata": {},
   "outputs": [
    {
     "data": {
      "text/html": [
       "<div>\n",
       "<style scoped>\n",
       "    .dataframe tbody tr th:only-of-type {\n",
       "        vertical-align: middle;\n",
       "    }\n",
       "\n",
       "    .dataframe tbody tr th {\n",
       "        vertical-align: top;\n",
       "    }\n",
       "\n",
       "    .dataframe thead th {\n",
       "        text-align: right;\n",
       "    }\n",
       "</style>\n",
       "<table border=\"1\" class=\"dataframe\">\n",
       "  <thead>\n",
       "    <tr style=\"text-align: right;\">\n",
       "      <th></th>\n",
       "      <th>ACC_NBR</th>\n",
       "      <th>PATIENT_ID</th>\n",
       "      <th>EMPI_NBR</th>\n",
       "      <th>ENCNTR_ID</th>\n",
       "      <th>HNAM_DOCUMENT_CLINICAL_ID</th>\n",
       "      <th>HNAM_DOCUMENT_CLINICAL_NM</th>\n",
       "      <th>DAY_VERIFIED</th>\n",
       "      <th>DOC_TEXT</th>\n",
       "      <th>DOC_ABSTRACT</th>\n",
       "      <th>EVENT_DOCUMENT_DESC</th>\n",
       "      <th>EVENT_DOCUMENT_KEY</th>\n",
       "    </tr>\n",
       "  </thead>\n",
       "  <tbody>\n",
       "    <tr>\n",
       "      <th>0</th>\n",
       "      <td>00006DX190104831</td>\n",
       "      <td>18007243</td>\n",
       "      <td>803350</td>\n",
       "      <td>156619493.0</td>\n",
       "      <td>2228789^EVENT</td>\n",
       "      <td>XR Chest 1 View Portable</td>\n",
       "      <td>06/28/2019</td>\n",
       "      <td>REPORT\\r\\rEXAM: XR Chest 1 View Portable\\n\\nES...</td>\n",
       "      <td>REPORT\\r\\rEXAM: XR Chest 1 View Portable\\n\\nES...</td>\n",
       "      <td>00006DX20190104831</td>\n",
       "      <td>127041997.0</td>\n",
       "    </tr>\n",
       "    <tr>\n",
       "      <th>1</th>\n",
       "      <td>00002DX200136398</td>\n",
       "      <td>27595956</td>\n",
       "      <td>5889242</td>\n",
       "      <td>174163224.0</td>\n",
       "      <td>2228795^EVENT</td>\n",
       "      <td>XR Chest 2 Views PA + Lat Stnd Protocol</td>\n",
       "      <td>07/23/2020</td>\n",
       "      <td>REPORT\\r\\rEXAM: XR Chest 2 Views PA + Lat Stnd...</td>\n",
       "      <td>REPORT\\r\\rEXAM: XR Chest 2 Views PA + Lat Stnd...</td>\n",
       "      <td>00002DX20200136398</td>\n",
       "      <td>140584055.0</td>\n",
       "    </tr>\n",
       "    <tr>\n",
       "      <th>2</th>\n",
       "      <td>00001CT190035194</td>\n",
       "      <td>18095426</td>\n",
       "      <td>891532</td>\n",
       "      <td>149573470.0</td>\n",
       "      <td>1460399309^EVENT</td>\n",
       "      <td>CT Neuro Spine Outside Image Ref Only</td>\n",
       "      <td>02/02/2019</td>\n",
       "      <td>CT NEURO SPINE OUTSIDE IMAGE REF ONLY\\r\\rRefer...</td>\n",
       "      <td>CT NEURO SPINE OUTSIDE IMAGE REF ONLY\\r\\rRefer...</td>\n",
       "      <td>00001CT20190035194</td>\n",
       "      <td>115489211.0</td>\n",
       "    </tr>\n",
       "    <tr>\n",
       "      <th>3</th>\n",
       "      <td>00002DX200041549</td>\n",
       "      <td>18302477</td>\n",
       "      <td>1098583</td>\n",
       "      <td>167980557.0</td>\n",
       "      <td>2228795^EVENT</td>\n",
       "      <td>XR Chest 2 Views PA + Lat Stnd Protocol</td>\n",
       "      <td>02/25/2020</td>\n",
       "      <td>ADDEND\\r\\rThis is the incorrect report as this...</td>\n",
       "      <td>ADDEND\\r\\rThis is the incorrect report as this...</td>\n",
       "      <td>00002DX20200041549</td>\n",
       "      <td>135818096.0</td>\n",
       "    </tr>\n",
       "    <tr>\n",
       "      <th>4</th>\n",
       "      <td>00002DX200138873</td>\n",
       "      <td>19065136</td>\n",
       "      <td>1861242</td>\n",
       "      <td>174284902.0</td>\n",
       "      <td>2228795^EVENT</td>\n",
       "      <td>XR Chest 2 Views PA + Lat Stnd Protocol</td>\n",
       "      <td>07/27/2020</td>\n",
       "      <td>REPORT\\r\\rEXAM: XR Chest 2 Views PA + Lat Stnd...</td>\n",
       "      <td>REPORT\\r\\rEXAM: XR Chest 2 Views PA + Lat Stnd...</td>\n",
       "      <td>00002DX20200138873</td>\n",
       "      <td>140714001.0</td>\n",
       "    </tr>\n",
       "  </tbody>\n",
       "</table>\n",
       "</div>"
      ],
      "text/plain": [
       "            ACC_NBR PATIENT_ID EMPI_NBR    ENCNTR_ID  \\\n",
       "0  00006DX190104831   18007243   803350  156619493.0   \n",
       "1  00002DX200136398   27595956  5889242  174163224.0   \n",
       "2  00001CT190035194   18095426   891532  149573470.0   \n",
       "3  00002DX200041549   18302477  1098583  167980557.0   \n",
       "4  00002DX200138873   19065136  1861242  174284902.0   \n",
       "\n",
       "  HNAM_DOCUMENT_CLINICAL_ID                HNAM_DOCUMENT_CLINICAL_NM  \\\n",
       "0             2228789^EVENT                 XR Chest 1 View Portable   \n",
       "1             2228795^EVENT  XR Chest 2 Views PA + Lat Stnd Protocol   \n",
       "2          1460399309^EVENT    CT Neuro Spine Outside Image Ref Only   \n",
       "3             2228795^EVENT  XR Chest 2 Views PA + Lat Stnd Protocol   \n",
       "4             2228795^EVENT  XR Chest 2 Views PA + Lat Stnd Protocol   \n",
       "\n",
       "  DAY_VERIFIED                                           DOC_TEXT  \\\n",
       "0   06/28/2019  REPORT\\r\\rEXAM: XR Chest 1 View Portable\\n\\nES...   \n",
       "1   07/23/2020  REPORT\\r\\rEXAM: XR Chest 2 Views PA + Lat Stnd...   \n",
       "2   02/02/2019  CT NEURO SPINE OUTSIDE IMAGE REF ONLY\\r\\rRefer...   \n",
       "3   02/25/2020  ADDEND\\r\\rThis is the incorrect report as this...   \n",
       "4   07/27/2020  REPORT\\r\\rEXAM: XR Chest 2 Views PA + Lat Stnd...   \n",
       "\n",
       "                                        DOC_ABSTRACT EVENT_DOCUMENT_DESC  \\\n",
       "0  REPORT\\r\\rEXAM: XR Chest 1 View Portable\\n\\nES...  00006DX20190104831   \n",
       "1  REPORT\\r\\rEXAM: XR Chest 2 Views PA + Lat Stnd...  00002DX20200136398   \n",
       "2  CT NEURO SPINE OUTSIDE IMAGE REF ONLY\\r\\rRefer...  00001CT20190035194   \n",
       "3  ADDEND\\r\\rThis is the incorrect report as this...  00002DX20200041549   \n",
       "4  REPORT\\r\\rEXAM: XR Chest 2 Views PA + Lat Stnd...  00002DX20200138873   \n",
       "\n",
       "   EVENT_DOCUMENT_KEY  \n",
       "0         127041997.0  \n",
       "1         140584055.0  \n",
       "2         115489211.0  \n",
       "3         135818096.0  \n",
       "4         140714001.0  "
      ]
     },
     "execution_count": 8,
     "metadata": {},
     "output_type": "execute_result"
    }
   ],
   "source": [
    "radiology_notes.head()"
   ]
  },
  {
   "cell_type": "code",
   "execution_count": 19,
   "id": "46d2196a-d308-4b3e-8e73-d9cde64e9f8e",
   "metadata": {},
   "outputs": [],
   "source": []
  },
  {
   "cell_type": "code",
   "execution_count": 16,
   "id": "65085810-9d71-42a8-afeb-7c06856bdfc6",
   "metadata": {},
   "outputs": [],
   "source": [
    "df = pd.DataFrame()\n",
    "df['PatientID'] = radiology_notes['EMPI_NBR'].unique()\n",
    "df.to_csv('../PatientIDsWithNotes.csv', index = False)"
   ]
  },
  {
   "cell_type": "code",
   "execution_count": 13,
   "id": "120f9e14-bbf1-4358-af77-d714079ac578",
   "metadata": {},
   "outputs": [
    {
     "data": {
      "text/html": [
       "<div>\n",
       "<style scoped>\n",
       "    .dataframe tbody tr th:only-of-type {\n",
       "        vertical-align: middle;\n",
       "    }\n",
       "\n",
       "    .dataframe tbody tr th {\n",
       "        vertical-align: top;\n",
       "    }\n",
       "\n",
       "    .dataframe thead th {\n",
       "        text-align: right;\n",
       "    }\n",
       "</style>\n",
       "<table border=\"1\" class=\"dataframe\">\n",
       "  <thead>\n",
       "    <tr style=\"text-align: right;\">\n",
       "      <th></th>\n",
       "      <th>PAT_ID</th>\n",
       "      <th>EMPI_NBR</th>\n",
       "      <th>ENCOUNTER_NBR</th>\n",
       "      <th>ENCOUNTER_ID</th>\n",
       "      <th>BED_LOCATION_START</th>\n",
       "      <th>BED_LOCATION_END</th>\n",
       "    </tr>\n",
       "  </thead>\n",
       "  <tbody>\n",
       "    <tr>\n",
       "      <th>0</th>\n",
       "      <td>100000034</td>\n",
       "      <td>10169234</td>\n",
       "      <td>58153720161</td>\n",
       "      <td>172113523</td>\n",
       "      <td>06/09/2020 13:57:24</td>\n",
       "      <td>06/09/2020 14:54:18</td>\n",
       "    </tr>\n",
       "    <tr>\n",
       "      <th>1</th>\n",
       "      <td>100000034</td>\n",
       "      <td>10169234</td>\n",
       "      <td>58153720161</td>\n",
       "      <td>172113523</td>\n",
       "      <td>06/09/2020 14:54:18</td>\n",
       "      <td>06/10/2020 00:36:04</td>\n",
       "    </tr>\n",
       "    <tr>\n",
       "      <th>2</th>\n",
       "      <td>100000034</td>\n",
       "      <td>10169234</td>\n",
       "      <td>58153720161</td>\n",
       "      <td>172113523</td>\n",
       "      <td>06/10/2020 00:36:04</td>\n",
       "      <td>06/10/2020 14:49:00</td>\n",
       "    </tr>\n",
       "    <tr>\n",
       "      <th>3</th>\n",
       "      <td>100000087</td>\n",
       "      <td>10169249</td>\n",
       "      <td>58153788093</td>\n",
       "      <td>136538079</td>\n",
       "      <td>04/03/2018 13:24:01</td>\n",
       "      <td>04/03/2018 14:01:27</td>\n",
       "    </tr>\n",
       "    <tr>\n",
       "      <th>4</th>\n",
       "      <td>100000087</td>\n",
       "      <td>10169249</td>\n",
       "      <td>58153788093</td>\n",
       "      <td>136538079</td>\n",
       "      <td>04/03/2018 14:01:27</td>\n",
       "      <td>04/03/2018 17:00:40</td>\n",
       "    </tr>\n",
       "  </tbody>\n",
       "</table>\n",
       "</div>"
      ],
      "text/plain": [
       "      PAT_ID  EMPI_NBR  ENCOUNTER_NBR  ENCOUNTER_ID   BED_LOCATION_START  \\\n",
       "0  100000034  10169234    58153720161     172113523  06/09/2020 13:57:24   \n",
       "1  100000034  10169234    58153720161     172113523  06/09/2020 14:54:18   \n",
       "2  100000034  10169234    58153720161     172113523  06/10/2020 00:36:04   \n",
       "3  100000087  10169249    58153788093     136538079  04/03/2018 13:24:01   \n",
       "4  100000087  10169249    58153788093     136538079  04/03/2018 14:01:27   \n",
       "\n",
       "      BED_LOCATION_END  \n",
       "0  06/09/2020 14:54:18  \n",
       "1  06/10/2020 00:36:04  \n",
       "2  06/10/2020 14:49:00  \n",
       "3  04/03/2018 14:01:27  \n",
       "4  04/03/2018 17:00:40  "
      ]
     },
     "execution_count": 13,
     "metadata": {},
     "output_type": "execute_result"
    }
   ],
   "source": [
    "mastertable.head()"
   ]
  },
  {
   "cell_type": "code",
   "execution_count": 36,
   "id": "12f630f1-deab-4e6b-8a90-e5f8e228191d",
   "metadata": {},
   "outputs": [],
   "source": [
    "encounter_table = mastertable[['ENCOUNTER_ID', 'ENCOUNTER_NBR']].drop_duplicates()"
   ]
  },
  {
   "cell_type": "code",
   "execution_count": 32,
   "id": "92aa142f-120c-4086-8fc7-31523a1b276e",
   "metadata": {},
   "outputs": [],
   "source": [
    "radiology_notes = radiology_notes.loc[radiology_notes.ENCNTR_ID.notna()]"
   ]
  },
  {
   "cell_type": "code",
   "execution_count": 33,
   "id": "050c9a0b-a3cc-43ae-86d1-ee00fd43b00a",
   "metadata": {},
   "outputs": [],
   "source": [
    "radiology_notes.ENCNTR_ID = radiology_notes.ENCNTR_ID.astype('int64')"
   ]
  },
  {
   "cell_type": "code",
   "execution_count": 37,
   "id": "f8388439-68e3-43dc-84ce-5eb3b6be840c",
   "metadata": {},
   "outputs": [],
   "source": [
    "df = pd.merge(radiology_notes, encounter_table, 'inner', left_on = 'ENCNTR_ID', right_on = 'ENCOUNTER_ID')"
   ]
  },
  {
   "cell_type": "code",
   "execution_count": 39,
   "id": "83daf8ac-d2fd-4ecb-bd45-d9874f6327d9",
   "metadata": {
    "scrolled": true
   },
   "outputs": [],
   "source": [
    "df.to_csv('/labs/collab/Imaging/Imaging-PHI/Emory_Images/Meta/Combined_Radiology_Notes_with_EncounterNumber.csv')"
   ]
  },
  {
   "cell_type": "code",
   "execution_count": 10,
   "id": "7fcb84d1-b5c6-4b0d-9641-db421677efa4",
   "metadata": {},
   "outputs": [
    {
     "data": {
      "text/plain": [
       "'00005DX150059990'"
      ]
     },
     "execution_count": 10,
     "metadata": {},
     "output_type": "execute_result"
    }
   ],
   "source": [
    "combined_meta['AccessionNumber'].values[500]"
   ]
  },
  {
   "cell_type": "code",
   "execution_count": 17,
   "id": "f7ceaf89-9dc1-47b0-8100-9adbda9d6135",
   "metadata": {},
   "outputs": [
    {
     "name": "stdout",
     "output_type": "stream",
     "text": [
      "No radiology note for accession number:  00003DX170043130\n"
     ]
    },
    {
     "ename": "IndexError",
     "evalue": "index 0 is out of bounds for axis 0 with size 0",
     "output_type": "error",
     "traceback": [
      "\u001b[0;31m---------------------------------------------------------------------------\u001b[0m",
      "\u001b[0;31mIndexError\u001b[0m                                Traceback (most recent call last)",
      "Cell \u001b[0;32mIn[17], line 9\u001b[0m\n\u001b[1;32m      7\u001b[0m \u001b[38;5;66;03m#Append radiology note columns to combined_meta\u001b[39;00m\n\u001b[1;32m      8\u001b[0m \u001b[38;5;28;01mfor\u001b[39;00m col \u001b[38;5;129;01min\u001b[39;00m radiology_note\u001b[38;5;241m.\u001b[39mcolumns:\n\u001b[0;32m----> 9\u001b[0m     combined_meta\u001b[38;5;241m.\u001b[39mat[idx, col] \u001b[38;5;241m=\u001b[39m \u001b[43mradiology_note\u001b[49m\u001b[43m[\u001b[49m\u001b[43mcol\u001b[49m\u001b[43m]\u001b[49m\u001b[38;5;241;43m.\u001b[39;49m\u001b[43mvalues\u001b[49m\u001b[43m[\u001b[49m\u001b[38;5;241;43m0\u001b[39;49m\u001b[43m]\u001b[49m\n",
      "\u001b[0;31mIndexError\u001b[0m: index 0 is out of bounds for axis 0 with size 0"
     ]
    }
   ],
   "source": [
    "row = combined_meta.iloc[100]\n",
    "accession_number = row['AccessionNumber']\n",
    "radiology_note = radiology_notes.loc[radiology_notes['EVENT_DOCUMENT_DESC'] == accession_number]\n",
    "if len(radiology_note) == 0:\n",
    "    print(\"No radiology note for accession number: \", accession_number)\n",
    "\n",
    "#Append radiology note columns to combined_meta\n",
    "for col in radiology_note.columns:\n",
    "    combined_meta.at[idx, col] = radiology_note[col].values[0]"
   ]
  },
  {
   "cell_type": "code",
   "execution_count": 22,
   "id": "b6ca3945-ebb9-4e79-ae1d-f5d4ec236624",
   "metadata": {},
   "outputs": [],
   "source": [
    "acc = radiology_notes['ACC_NBR']\n",
    "acc_comb = combined_meta['AccessionNumber']"
   ]
  },
  {
   "cell_type": "code",
   "execution_count": 23,
   "id": "0911cc53-bec9-4390-ba4d-b1231d8d2b13",
   "metadata": {},
   "outputs": [
    {
     "data": {
      "text/plain": [
       "81819"
      ]
     },
     "execution_count": 23,
     "metadata": {},
     "output_type": "execute_result"
    }
   ],
   "source": [
    "common = set(acc).intersection(set(acc_comb))\n",
    "len(common)"
   ]
  },
  {
   "cell_type": "code",
   "execution_count": 25,
   "id": "1eb75e2f-abff-47df-9fbb-05d891fcca94",
   "metadata": {},
   "outputs": [
    {
     "data": {
      "text/plain": [
       "0.016045297632926874"
      ]
     },
     "execution_count": 25,
     "metadata": {},
     "output_type": "execute_result"
    }
   ],
   "source": [
    "81819/len(acc)"
   ]
  },
  {
   "cell_type": "code",
   "execution_count": 15,
   "id": "61af1f8a-c523-48ea-9c74-8da85c56118b",
   "metadata": {},
   "outputs": [
    {
     "data": {
      "text/html": [
       "<div>\n",
       "<style scoped>\n",
       "    .dataframe tbody tr th:only-of-type {\n",
       "        vertical-align: middle;\n",
       "    }\n",
       "\n",
       "    .dataframe tbody tr th {\n",
       "        vertical-align: top;\n",
       "    }\n",
       "\n",
       "    .dataframe thead th {\n",
       "        text-align: right;\n",
       "    }\n",
       "</style>\n",
       "<table border=\"1\" class=\"dataframe\">\n",
       "  <thead>\n",
       "    <tr style=\"text-align: right;\">\n",
       "      <th></th>\n",
       "      <th>ACC_NBR</th>\n",
       "      <th>PATIENT_ID</th>\n",
       "      <th>EMPI_NBR</th>\n",
       "      <th>ENCNTR_ID</th>\n",
       "      <th>HNAM_DOCUMENT_CLINICAL_ID</th>\n",
       "      <th>HNAM_DOCUMENT_CLINICAL_NM</th>\n",
       "      <th>DAY_VERIFIED</th>\n",
       "      <th>DOC_TEXT</th>\n",
       "      <th>DOC_ABSTRACT</th>\n",
       "      <th>EVENT_DOCUMENT_DESC</th>\n",
       "      <th>EVENT_DOCUMENT_KEY</th>\n",
       "    </tr>\n",
       "  </thead>\n",
       "  <tbody>\n",
       "    <tr>\n",
       "      <th>0</th>\n",
       "      <td>00006DX190104831</td>\n",
       "      <td>18007243</td>\n",
       "      <td>803350</td>\n",
       "      <td>156619493.0</td>\n",
       "      <td>2228789^EVENT</td>\n",
       "      <td>XR Chest 1 View Portable</td>\n",
       "      <td>06/28/2019</td>\n",
       "      <td>REPORT\\r\\rEXAM: XR Chest 1 View Portable\\n\\nES...</td>\n",
       "      <td>REPORT\\r\\rEXAM: XR Chest 1 View Portable\\n\\nES...</td>\n",
       "      <td>00006DX20190104831</td>\n",
       "      <td>127041997.0</td>\n",
       "    </tr>\n",
       "    <tr>\n",
       "      <th>1</th>\n",
       "      <td>00002DX200136398</td>\n",
       "      <td>27595956</td>\n",
       "      <td>5889242</td>\n",
       "      <td>174163224.0</td>\n",
       "      <td>2228795^EVENT</td>\n",
       "      <td>XR Chest 2 Views PA + Lat Stnd Protocol</td>\n",
       "      <td>07/23/2020</td>\n",
       "      <td>REPORT\\r\\rEXAM: XR Chest 2 Views PA + Lat Stnd...</td>\n",
       "      <td>REPORT\\r\\rEXAM: XR Chest 2 Views PA + Lat Stnd...</td>\n",
       "      <td>00002DX20200136398</td>\n",
       "      <td>140584055.0</td>\n",
       "    </tr>\n",
       "    <tr>\n",
       "      <th>2</th>\n",
       "      <td>00001CT190035194</td>\n",
       "      <td>18095426</td>\n",
       "      <td>891532</td>\n",
       "      <td>149573470.0</td>\n",
       "      <td>1460399309^EVENT</td>\n",
       "      <td>CT Neuro Spine Outside Image Ref Only</td>\n",
       "      <td>02/02/2019</td>\n",
       "      <td>CT NEURO SPINE OUTSIDE IMAGE REF ONLY\\r\\rRefer...</td>\n",
       "      <td>CT NEURO SPINE OUTSIDE IMAGE REF ONLY\\r\\rRefer...</td>\n",
       "      <td>00001CT20190035194</td>\n",
       "      <td>115489211.0</td>\n",
       "    </tr>\n",
       "    <tr>\n",
       "      <th>3</th>\n",
       "      <td>00002DX200041549</td>\n",
       "      <td>18302477</td>\n",
       "      <td>1098583</td>\n",
       "      <td>167980557.0</td>\n",
       "      <td>2228795^EVENT</td>\n",
       "      <td>XR Chest 2 Views PA + Lat Stnd Protocol</td>\n",
       "      <td>02/25/2020</td>\n",
       "      <td>ADDEND\\r\\rThis is the incorrect report as this...</td>\n",
       "      <td>ADDEND\\r\\rThis is the incorrect report as this...</td>\n",
       "      <td>00002DX20200041549</td>\n",
       "      <td>135818096.0</td>\n",
       "    </tr>\n",
       "    <tr>\n",
       "      <th>4</th>\n",
       "      <td>00002DX200138873</td>\n",
       "      <td>19065136</td>\n",
       "      <td>1861242</td>\n",
       "      <td>174284902.0</td>\n",
       "      <td>2228795^EVENT</td>\n",
       "      <td>XR Chest 2 Views PA + Lat Stnd Protocol</td>\n",
       "      <td>07/27/2020</td>\n",
       "      <td>REPORT\\r\\rEXAM: XR Chest 2 Views PA + Lat Stnd...</td>\n",
       "      <td>REPORT\\r\\rEXAM: XR Chest 2 Views PA + Lat Stnd...</td>\n",
       "      <td>00002DX20200138873</td>\n",
       "      <td>140714001.0</td>\n",
       "    </tr>\n",
       "  </tbody>\n",
       "</table>\n",
       "</div>"
      ],
      "text/plain": [
       "            ACC_NBR PATIENT_ID EMPI_NBR    ENCNTR_ID  \\\n",
       "0  00006DX190104831   18007243   803350  156619493.0   \n",
       "1  00002DX200136398   27595956  5889242  174163224.0   \n",
       "2  00001CT190035194   18095426   891532  149573470.0   \n",
       "3  00002DX200041549   18302477  1098583  167980557.0   \n",
       "4  00002DX200138873   19065136  1861242  174284902.0   \n",
       "\n",
       "  HNAM_DOCUMENT_CLINICAL_ID                HNAM_DOCUMENT_CLINICAL_NM  \\\n",
       "0             2228789^EVENT                 XR Chest 1 View Portable   \n",
       "1             2228795^EVENT  XR Chest 2 Views PA + Lat Stnd Protocol   \n",
       "2          1460399309^EVENT    CT Neuro Spine Outside Image Ref Only   \n",
       "3             2228795^EVENT  XR Chest 2 Views PA + Lat Stnd Protocol   \n",
       "4             2228795^EVENT  XR Chest 2 Views PA + Lat Stnd Protocol   \n",
       "\n",
       "  DAY_VERIFIED                                           DOC_TEXT  \\\n",
       "0   06/28/2019  REPORT\\r\\rEXAM: XR Chest 1 View Portable\\n\\nES...   \n",
       "1   07/23/2020  REPORT\\r\\rEXAM: XR Chest 2 Views PA + Lat Stnd...   \n",
       "2   02/02/2019  CT NEURO SPINE OUTSIDE IMAGE REF ONLY\\r\\rRefer...   \n",
       "3   02/25/2020  ADDEND\\r\\rThis is the incorrect report as this...   \n",
       "4   07/27/2020  REPORT\\r\\rEXAM: XR Chest 2 Views PA + Lat Stnd...   \n",
       "\n",
       "                                        DOC_ABSTRACT EVENT_DOCUMENT_DESC  \\\n",
       "0  REPORT\\r\\rEXAM: XR Chest 1 View Portable\\n\\nES...  00006DX20190104831   \n",
       "1  REPORT\\r\\rEXAM: XR Chest 2 Views PA + Lat Stnd...  00002DX20200136398   \n",
       "2  CT NEURO SPINE OUTSIDE IMAGE REF ONLY\\r\\rRefer...  00001CT20190035194   \n",
       "3  ADDEND\\r\\rThis is the incorrect report as this...  00002DX20200041549   \n",
       "4  REPORT\\r\\rEXAM: XR Chest 2 Views PA + Lat Stnd...  00002DX20200138873   \n",
       "\n",
       "   EVENT_DOCUMENT_KEY  \n",
       "0         127041997.0  \n",
       "1         140584055.0  \n",
       "2         115489211.0  \n",
       "3         135818096.0  \n",
       "4         140714001.0  "
      ]
     },
     "execution_count": 15,
     "metadata": {},
     "output_type": "execute_result"
    }
   ],
   "source": [
    "radiology_notes.head()"
   ]
  },
  {
   "cell_type": "code",
   "execution_count": null,
   "id": "7b99b061-6178-4d55-88f5-a58c87cad0af",
   "metadata": {},
   "outputs": [],
   "source": []
  },
  {
   "cell_type": "code",
   "execution_count": null,
   "id": "cb0b78d1-0524-4c5c-a115-f9d92ffa9c4f",
   "metadata": {},
   "outputs": [],
   "source": [
    "for idx, row in combined_meta.iterrows():\n",
    "    accession_number = row['AccessionNumber']\n",
    "    radiology_note = radiology_notes.loc[radiology_notes['AccessionNumber'] == accession_number]\n",
    "    if len(radiology_note) == 0:\n",
    "        print(\"No radiology note for accession number: \", accession_number)\n",
    "        continue\n",
    "\n",
    "    #Append radiology note columns to combined_meta\n",
    "    for col in radiology_note.columns:\n",
    "        combined_meta.at[idx, col] = radiology_note[col].values[0]\n",
    "    \n",
    "path_to_combined_meta = Path('/labs/collab/Imaging/Imaging-PHI/Emory_Images/Meta/Combined_Meta_' + year + '_Radiology.pkl')\n",
    "combined_meta.to_pickle(path_to_combined_meta)"
   ]
  }
 ],
 "metadata": {
  "kernelspec": {
   "display_name": "rapids",
   "language": "python",
   "name": "rapids"
  },
  "language_info": {
   "codemirror_mode": {
    "name": "ipython",
    "version": 3
   },
   "file_extension": ".py",
   "mimetype": "text/x-python",
   "name": "python",
   "nbconvert_exporter": "python",
   "pygments_lexer": "ipython3",
   "version": "3.10.14"
  }
 },
 "nbformat": 4,
 "nbformat_minor": 5
}
